{
 "cells": [
  {
   "cell_type": "code",
   "execution_count": 1,
   "metadata": {},
   "outputs": [],
   "source": [
    "import pandas as pd\n",
    "import numpy as np\n",
    "from ksif import Portfolio\n",
    "from scipy.optimize import minimize\n",
    "\n",
    "pf = Portfolio()\n",
    "\n",
    "firm_need={'삼성전자':True,'SK하이닉스':True,'NAVER':True}\n",
    "pf['label']=pf['firmname'].map(firm_need)\n",
    "\n",
    "pf_need=pf[(pf['date']>'2015-04') & (pf['label']==True)][['firmname','date','ret_1m']]"
   ]
  },
  {
   "cell_type": "code",
   "execution_count": 6,
   "metadata": {},
   "outputs": [
    {
     "data": {
      "text/html": [
       "<div>\n",
       "<style scoped>\n",
       "    .dataframe tbody tr th:only-of-type {\n",
       "        vertical-align: middle;\n",
       "    }\n",
       "\n",
       "    .dataframe tbody tr th {\n",
       "        vertical-align: top;\n",
       "    }\n",
       "\n",
       "    .dataframe thead th {\n",
       "        text-align: right;\n",
       "    }\n",
       "</style>\n",
       "<table border=\"1\" class=\"dataframe\">\n",
       "  <thead>\n",
       "    <tr style=\"text-align: right;\">\n",
       "      <th>firmname</th>\n",
       "      <th>NAVER</th>\n",
       "      <th>SK하이닉스</th>\n",
       "      <th>삼성전자</th>\n",
       "    </tr>\n",
       "  </thead>\n",
       "  <tbody>\n",
       "    <tr>\n",
       "      <th>ret_1m</th>\n",
       "      <td>0.007378</td>\n",
       "      <td>0.008229</td>\n",
       "      <td>0.005027</td>\n",
       "    </tr>\n",
       "  </tbody>\n",
       "</table>\n",
       "</div>"
      ],
      "text/plain": [
       "firmname     NAVER    SK하이닉스      삼성전자\n",
       "ret_1m    0.007378  0.008229  0.005027"
      ]
     },
     "execution_count": 6,
     "metadata": {},
     "output_type": "execute_result"
    }
   ],
   "source": [
    "#a) Find annualized arithmetic average and variance of excess return for the stocks you have chosen.\n",
    "\n",
    "mean_firm=pf_need.groupby('firmname').mean().T\n",
    "\n",
    "var_firm=pf_need.groupby('firmname').var().T\n",
    "\n",
    "#mean_firm\n",
    "\n",
    "var_firm\n"
   ]
  },
  {
   "cell_type": "code",
   "execution_count": 7,
   "metadata": {},
   "outputs": [
    {
     "data": {
      "text/html": [
       "<div>\n",
       "<style scoped>\n",
       "    .dataframe tbody tr th:only-of-type {\n",
       "        vertical-align: middle;\n",
       "    }\n",
       "\n",
       "    .dataframe tbody tr th {\n",
       "        vertical-align: top;\n",
       "    }\n",
       "\n",
       "    .dataframe thead th {\n",
       "        text-align: right;\n",
       "    }\n",
       "</style>\n",
       "<table border=\"1\" class=\"dataframe\">\n",
       "  <thead>\n",
       "    <tr style=\"text-align: right;\">\n",
       "      <th></th>\n",
       "      <th>NAVER</th>\n",
       "      <th>SK하이닉스</th>\n",
       "      <th>삼성전자</th>\n",
       "    </tr>\n",
       "  </thead>\n",
       "  <tbody>\n",
       "    <tr>\n",
       "      <th>NAVER</th>\n",
       "      <td>0.007378</td>\n",
       "      <td>0.000941</td>\n",
       "      <td>0.002384</td>\n",
       "    </tr>\n",
       "    <tr>\n",
       "      <th>SK하이닉스</th>\n",
       "      <td>0.000941</td>\n",
       "      <td>0.008229</td>\n",
       "      <td>0.003367</td>\n",
       "    </tr>\n",
       "    <tr>\n",
       "      <th>삼성전자</th>\n",
       "      <td>0.002384</td>\n",
       "      <td>0.003367</td>\n",
       "      <td>0.005027</td>\n",
       "    </tr>\n",
       "  </tbody>\n",
       "</table>\n",
       "</div>"
      ],
      "text/plain": [
       "           NAVER    SK하이닉스      삼성전자\n",
       "NAVER   0.007378  0.000941  0.002384\n",
       "SK하이닉스  0.000941  0.008229  0.003367\n",
       "삼성전자    0.002384  0.003367  0.005027"
      ]
     },
     "execution_count": 7,
     "metadata": {},
     "output_type": "execute_result"
    }
   ],
   "source": [
    "#b) Find variance-covariance matrix of 3 stocks’ returns.\n",
    "dic={}\n",
    "for i in list(pf_need['firmname'].unique()):\n",
    "    dic[i]=list(pf_need[pf_need['firmname']==i]['ret_1m'])\n",
    "\n",
    "data_f_all=pd.DataFrame(dic)\n",
    "cov_matrix=pd.DataFrame.cov(data_f_all)\n",
    "\n",
    "cov_matrix=cov_matrix[list(mean_firm.columns)]\n",
    "cov_matrix=cov_matrix.loc[list(mean_firm.columns),:]\n",
    "cov_matrix"
   ]
  },
  {
   "cell_type": "code",
   "execution_count": 23,
   "metadata": {
    "scrolled": true
   },
   "outputs": [],
   "source": [
    "#weight generating\n",
    "number_of_firm=3\n",
    "number_if_iter=5000\n",
    "one_company_more_than_20=True\n",
    "\n",
    "weight_frame=pd.DataFrame()\n",
    "    \n",
    "for i in range(number_if_iter):\n",
    "    ran_list = np.random.random(number_of_firm)\n",
    "    ran_list /= ran_list.sum()\n",
    "    weight_frame=weight_frame.append(pd.DataFrame(ran_list).T)\n",
    "    \n",
    "weight_frame.columns=[('weight'+'_'+list(mean_firm.columns)[i]) for i in range(number_of_firm)]\n",
    "\n",
    "if(one_company_more_than_20):\n",
    "    weight_frame=weight_frame[weight_frame.iloc[:,0]>0.2]\n",
    "    weight_frame\n",
    "else:\n",
    "    weight_frame\n"
   ]
  },
  {
   "cell_type": "code",
   "execution_count": 24,
   "metadata": {
    "scrolled": true
   },
   "outputs": [],
   "source": [
    "def portfolio_mean(x):\n",
    "    return(sum(np.array(mean_firm.iloc[0,:])*np.array(x)))\n",
    "\n",
    "def portfolio_sd(x):\n",
    "    temp_mat=np.dot(np.array(x),cov_matrix)\n",
    "    return(np.dot(temp_mat,np.array(x).T)** 0.5)\n",
    "\n",
    "return_mean = weight_frame.apply(portfolio_mean,axis=1)\n",
    "return_variance = weight_frame.apply(portfolio_sd,axis=1)\n",
    "\n",
    "weight_frame['return_mean']=return_mean\n",
    "weight_frame['return_variance']=return_variance\n"
   ]
  },
  {
   "cell_type": "code",
   "execution_count": 25,
   "metadata": {
    "scrolled": false
   },
   "outputs": [
    {
     "data": {
      "image/png": "[encoded data removed]",
      "text/plain": [
       "<Figure size 1080x504 with 1 Axes>"
      ]
     },
     "metadata": {
      "needs_background": "light"
     },
     "output_type": "display_data"
    }
   ],
   "source": [
    "import matplotlib.pyplot as plt\n",
    "\n",
    "\n",
    "# set label of axes\n",
    "plt.figure(figsize=(15,7))\n",
    "plt.xlabel('월 수익률의 시그마')\n",
    "plt.ylabel('월 수익률의 기대값')\n",
    "\n",
    "# plot\n",
    "plt.scatter(weight_frame['return_variance'],weight_frame['return_mean'] )\n",
    "plt.show()\n"
   ]
  },
  {
   "cell_type": "code",
   "execution_count": 26,
   "metadata": {
    "scrolled": true
   },
   "outputs": [],
   "source": [
    "#Optimize weight for best sharpe ratio\n",
    "risk_free=0.001\n",
    "\n",
    "def objective(x):\n",
    "    return (-(portfolio_mean(x)-risk_free)/portfolio_sd(x))\n",
    "    \n",
    "def constraint(x):\n",
    "    sum_sq=1\n",
    "    sum_sq=sum_sq-sum(x)\n",
    "    return sum_sq\n",
    "\n",
    "if one_company_more_than_20 :\n",
    "    a=(0.2,1.0)\n",
    "    b=(0.0,1.0)\n",
    "    bnds = (a,b,b)\n",
    "else:\n",
    "    b=(0.0,1.0)\n",
    "    bnds = (b,b,b)   "
   ]
  },
  {
   "cell_type": "code",
   "execution_count": 27,
   "metadata": {},
   "outputs": [],
   "source": [
    "x0=[0.5,0.2,0.3]\n",
    "cons={'type':'eq','fun':constraint}"
   ]
  },
  {
   "cell_type": "code",
   "execution_count": 28,
   "metadata": {},
   "outputs": [],
   "source": [
    "tangent_portfolio=minimize(objective,x0,method='SLSQP',bounds=bnds,constraints=cons)"
   ]
  },
  {
   "cell_type": "code",
   "execution_count": 29,
   "metadata": {},
   "outputs": [
    {
     "data": {
      "text/plain": [
       "     fun: -0.16710162723883365\n",
       "     jac: array([-0.00161128, -0.01922725, -0.01918819])\n",
       " message: 'Optimization terminated successfully.'\n",
       "    nfev: 30\n",
       "     nit: 6\n",
       "    njev: 6\n",
       "  status: 0\n",
       " success: True\n",
       "       x: array([0.2       , 0.41768815, 0.38231185])"
      ]
     },
     "execution_count": 29,
     "metadata": {},
     "output_type": "execute_result"
    }
   ],
   "source": [
    "tangent_portfolio"
   ]
  },
  {
   "cell_type": "code",
   "execution_count": 33,
   "metadata": {},
   "outputs": [
    {
     "data": {
      "text/plain": [
       "0.06373843275028492"
      ]
     },
     "execution_count": 33,
     "metadata": {},
     "output_type": "execute_result"
    }
   ],
   "source": [
    "tangent_mean=portfolio_mean(list(tangent_portfolio.x))\n",
    "tangent_sd=portfolio_sd(list(tangent_portfolio.x))\n",
    "tangent_sd"
   ]
  },
  {
   "cell_type": "code",
   "execution_count": 31,
   "metadata": {},
   "outputs": [
    {
     "data": {
      "image/png": "[encoded data removed]",
      "text/plain": [
       "<Figure size 720x504 with 1 Axes>"
      ]
     },
     "metadata": {
      "needs_background": "light"
     },
     "output_type": "display_data"
    }
   ],
   "source": [
    "# set label of axes\n",
    "plt.figure(figsize=(10,7))\n",
    "plt.xlabel('월 수익률의 시그마')\n",
    "plt.ylabel('월 수익률의 기대값')\n",
    "\n",
    "\n",
    "# plot\n",
    "plt.scatter(weight_frame['return_variance'],weight_frame['return_mean'] )\n",
    "plt.plot([0,tangent_sd],[risk_free,tangent_mean])\n",
    "plt.show()\n"
   ]
  },
  {
   "cell_type": "code",
   "execution_count": 34,
   "metadata": {
    "scrolled": true
   },
   "outputs": [],
   "source": [
    "tangent_weight=list(tangent_portfolio.x)"
   ]
  },
  {
   "cell_type": "code",
   "execution_count": 35,
   "metadata": {},
   "outputs": [],
   "source": [
    "def portfolio_history_mean_by_tangent_w(x):\n",
    "    return(sum(np.array(tangent_weight)*np.array(x)))\n",
    "\n",
    "history_return=data_f_all.apply(portfolio_history_mean_by_tangent_w,axis=1)\n",
    "history_return=history_return.sort_values(ascending=True)\n",
    "history_return=list(history_return)"
   ]
  },
  {
   "cell_type": "code",
   "execution_count": 47,
   "metadata": {},
   "outputs": [
    {
     "data": {
      "text/plain": [
       "-0.09351761820774453"
      ]
     },
     "execution_count": 47,
     "metadata": {},
     "output_type": "execute_result"
    }
   ],
   "source": [
    "var_5=tangent_mean-1.65*tangent_sd\n",
    "var_5"
   ]
  },
  {
   "cell_type": "code",
   "execution_count": 48,
   "metadata": {},
   "outputs": [
    {
     "data": {
      "text/plain": [
       "-0.11289604687048377"
      ]
     },
     "execution_count": 48,
     "metadata": {},
     "output_type": "execute_result"
    }
   ],
   "source": [
    "expected_shortfall=sum(history_return[0:int(len(history_return)*5/100)])/int(len(history_return)*5/100)\n",
    "expected_shortfall"
   ]
  },
  {
   "cell_type": "code",
   "execution_count": 64,
   "metadata": {},
   "outputs": [
    {
     "data": {
      "text/plain": [
       "0.5243355383195759"
      ]
     },
     "execution_count": 64,
     "metadata": {},
     "output_type": "execute_result"
    }
   ],
   "source": [
    "risk_aversion=5\n",
    "(tangent_mean-risk_free)/((risk_aversion)*tangent_sd**2)"
   ]
  },
  {
   "cell_type": "code",
   "execution_count": 59,
   "metadata": {},
   "outputs": [
    {
     "data": {
      "text/plain": [
       "0.001"
      ]
     },
     "execution_count": 59,
     "metadata": {},
     "output_type": "execute_result"
    }
   ],
   "source": []
  },
  {
   "cell_type": "code",
   "execution_count": null,
   "metadata": {},
   "outputs": [],
   "source": []
  }
 ],
 "metadata": {
  "kernelspec": {
   "display_name": "Python 3",
   "language": "python",
   "name": "python3"
  },
  "language_info": {
   "codemirror_mode": {
    "name": "ipython",
    "version": 3
   },
   "file_extension": ".py",
   "mimetype": "text/x-python",
   "name": "python",
   "nbconvert_exporter": "python",
   "pygments_lexer": "ipython3",
   "version": "3.7.3"
  }
 },
 "nbformat": 4,
 "nbformat_minor": 2
}
